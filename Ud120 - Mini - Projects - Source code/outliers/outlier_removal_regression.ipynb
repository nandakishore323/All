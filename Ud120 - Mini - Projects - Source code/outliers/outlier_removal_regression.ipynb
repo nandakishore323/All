{
 "cells": [
  {
   "cell_type": "code",
   "execution_count": 2,
   "metadata": {},
   "outputs": [
    {
     "data": {
      "image/png": "[encoded data removed]",
      "text/plain": [
       "<Figure size 432x288 with 1 Axes>"
      ]
     },
     "metadata": {
      "needs_background": "light"
     },
     "output_type": "display_data"
    },
    {
     "data": {
      "image/png": "[encoded data removed]",
      "text/plain": [
       "<Figure size 432x288 with 1 Axes>"
      ]
     },
     "metadata": {
      "needs_background": "light"
     },
     "output_type": "display_data"
    }
   ],
   "source": [
    "#!/usr/bin/python\n",
    "\n",
    "import random\n",
    "import numpy\n",
    "import matplotlib.pyplot as plt\n",
    "import pickle\n",
    "\n",
    "from outlier_cleaner import outlierCleaner\n",
    "\n",
    "\n",
    "### load up some practice data with outliers in it\n",
    "ages = pickle.load( open(\"practice_outliers_ages.pkl\", \"r\") )\n",
    "net_worths = pickle.load( open(\"practice_outliers_net_worths.pkl\", \"r\") )\n",
    "\n",
    "\n",
    "\n",
    "### ages and net_worths need to be reshaped into 2D numpy arrays\n",
    "### second argument of reshape command is a tuple of integers: (n_rows, n_columns)\n",
    "### by convention, n_rows is the number of data points\n",
    "### and n_columns is the number of features\n",
    "ages       = numpy.reshape( numpy.array(ages), (len(ages), 1))\n",
    "net_worths = numpy.reshape( numpy.array(net_worths), (len(net_worths), 1))\n",
    "from sklearn.model_selection import train_test_split\n",
    "ages_train, ages_test, net_worths_train, net_worths_test = train_test_split(ages, net_worths, test_size=0.1, random_state=42)\n",
    "\n",
    "### fill in a regression here!  Name the regression object reg so that\n",
    "### the plotting code below works, and you can see what your regression looks like\n",
    "\n",
    "\n",
    "from sklearn.linear_model import LinearRegression\n",
    "reg = LinearRegression().fit(ages_train, net_worths_train)\n",
    "\n",
    "\n",
    "\n",
    "\n",
    "\n",
    "\n",
    "\n",
    "try:\n",
    "    plt.plot(ages, reg.predict(ages), color=\"blue\")\n",
    "except NameError:\n",
    "    pass\n",
    "plt.scatter(ages, net_worths)\n",
    "plt.show()\n",
    "\n",
    "\n",
    "### identify and remove the most outlier-y points\n",
    "cleaned_data = []\n",
    "try:\n",
    "    predictions = reg.predict(ages_train)\n",
    "    cleaned_data = outlierCleaner( predictions, ages_train, net_worths_train )\n",
    "except NameError:\n",
    "    print \"your regression object doesn't exist, or isn't name reg\"\n",
    "    print \"can't make predictions to use in identifying outliers\"\n",
    "\n",
    "\n",
    "\n",
    "\n",
    "\n",
    "\n",
    "\n",
    "### only run this code if cleaned_data is returning data\n",
    "if len(cleaned_data) > 0:\n",
    "    ages, net_worths, errors = zip(*cleaned_data)\n",
    "    ages       = numpy.reshape( numpy.array(ages), (len(ages), 1))\n",
    "    net_worths = numpy.reshape( numpy.array(net_worths), (len(net_worths), 1))\n",
    "\n",
    "    ### refit your cleaned data!\n",
    "    try:\n",
    "        reg.fit(ages, net_worths)\n",
    "        plt.plot(ages, reg.predict(ages), color=\"blue\")\n",
    "    except NameError:\n",
    "        print \"you don't seem to have regression imported/created,\"\n",
    "        print \"   or else your regression object isn't named reg\"\n",
    "        print \"   either way, only draw the scatter plot of the cleaned data\"\n",
    "    plt.scatter(ages, net_worths)\n",
    "    plt.xlabel(\"ages\")\n",
    "    plt.ylabel(\"net worths\")\n",
    "    plt.show()\n",
    "\n",
    "\n",
    "else:\n",
    "    print \"outlierCleaner() is returning an empty list, no refitting to be done\"\n",
    "\n"
   ]
  },
  {
   "cell_type": "code",
   "execution_count": 3,
   "metadata": {},
   "outputs": [
    {
     "data": {
      "text/plain": [
       "array([[6.36859481]])"
      ]
     },
     "execution_count": 3,
     "metadata": {},
     "output_type": "execute_result"
    }
   ],
   "source": [
    "reg.coef_"
   ]
  },
  {
   "cell_type": "code",
   "execution_count": 4,
   "metadata": {},
   "outputs": [
    {
     "data": {
      "text/plain": [
       "0.9831894553955322"
      ]
     },
     "execution_count": 4,
     "metadata": {},
     "output_type": "execute_result"
    }
   ],
   "source": [
    "reg.score(ages_test,net_worths_test)"
   ]
  },
  {
   "cell_type": "code",
   "execution_count": 6,
   "metadata": {},
   "outputs": [],
   "source": [
    "predictions = reg.predict(ages_train)"
   ]
  },
  {
   "cell_type": "code",
   "execution_count": 7,
   "metadata": {},
   "outputs": [
    {
     "data": {
      "text/plain": [
       "array([[314.65206822],\n",
       "       [314.65206822],\n",
       "       [197.85966342],\n",
       "       [350.19758273],\n",
       "       [152.15828763],\n",
       "       [294.34034565],\n",
       "       [340.04172144],\n",
       "       [233.40517793],\n",
       "       [131.84656506],\n",
       "       [294.34034565],\n",
       "       [268.95069243],\n",
       "       [147.08035699],\n",
       "       [147.08035699],\n",
       "       [177.54794085],\n",
       "       [187.70380214],\n",
       "       [253.7169005 ],\n",
       "       [289.262415  ],\n",
       "       [355.27551337],\n",
       "       [131.84656506],\n",
       "       [329.88586015],\n",
       "       [243.56103921],\n",
       "       [187.70380214],\n",
       "       [177.54794085],\n",
       "       [319.72999887],\n",
       "       [223.24931664],\n",
       "       [284.18448436],\n",
       "       [177.54794085],\n",
       "       [304.49620693],\n",
       "       [253.7169005 ],\n",
       "       [177.54794085],\n",
       "       [208.01552471],\n",
       "       [213.09345535],\n",
       "       [142.00242634],\n",
       "       [213.09345535],\n",
       "       [147.08035699],\n",
       "       [126.76863441],\n",
       "       [187.70380214],\n",
       "       [202.93759407],\n",
       "       [253.7169005 ],\n",
       "       [172.47001021],\n",
       "       [350.19758273],\n",
       "       [177.54794085],\n",
       "       [263.87276179],\n",
       "       [324.80792951],\n",
       "       [223.24931664],\n",
       "       [187.70380214],\n",
       "       [334.9637908 ],\n",
       "       [319.72999887],\n",
       "       [319.72999887],\n",
       "       [136.9244957 ],\n",
       "       [162.31414892],\n",
       "       [324.80792951],\n",
       "       [274.02862307],\n",
       "       [192.78173278],\n",
       "       [213.09345535],\n",
       "       [131.84656506],\n",
       "       [147.08035699],\n",
       "       [197.85966342],\n",
       "       [274.02862307],\n",
       "       [248.63896986],\n",
       "       [182.62587149],\n",
       "       [136.9244957 ],\n",
       "       [162.31414892],\n",
       "       [274.02862307],\n",
       "       [350.19758273],\n",
       "       [294.34034565],\n",
       "       [218.171386  ],\n",
       "       [248.63896986],\n",
       "       [136.9244957 ],\n",
       "       [213.09345535],\n",
       "       [284.18448436],\n",
       "       [218.171386  ],\n",
       "       [268.95069243],\n",
       "       [263.87276179],\n",
       "       [131.84656506],\n",
       "       [187.70380214],\n",
       "       [289.262415  ],\n",
       "       [187.70380214],\n",
       "       [162.31414892],\n",
       "       [243.56103921],\n",
       "       [268.95069243],\n",
       "       [279.10655372],\n",
       "       [355.27551337],\n",
       "       [258.79483114],\n",
       "       [314.65206822],\n",
       "       [355.27551337],\n",
       "       [345.11965208],\n",
       "       [274.02862307],\n",
       "       [309.57413758],\n",
       "       [172.47001021]])"
      ]
     },
     "execution_count": 7,
     "metadata": {},
     "output_type": "execute_result"
    }
   ],
   "source": [
    "predictions"
   ]
  },
  {
   "cell_type": "code",
   "execution_count": 10,
   "metadata": {},
   "outputs": [],
   "source": [
    "x = (predictions - net_worths_train).sort()"
   ]
  },
  {
   "cell_type": "code",
   "execution_count": 11,
   "metadata": {},
   "outputs": [],
   "source": [
    "x"
   ]
  },
  {
   "cell_type": "code",
   "execution_count": 12,
   "metadata": {},
   "outputs": [],
   "source": [
    "x"
   ]
  },
  {
   "cell_type": "code",
   "execution_count": 13,
   "metadata": {},
   "outputs": [],
   "source": [
    "x = (predictions - net_worths_train)"
   ]
  },
  {
   "cell_type": "code",
   "execution_count": 14,
   "metadata": {},
   "outputs": [],
   "source": [
    "x.sort()"
   ]
  },
  {
   "cell_type": "code",
   "execution_count": 16,
   "metadata": {},
   "outputs": [
    {
     "ename": "NameError",
     "evalue": "name 'sort' is not defined",
     "output_type": "error",
     "traceback": [
      "\u001b[1;31m\u001b[0m",
      "\u001b[1;31mNameError\u001b[0mTraceback (most recent call last)",
      "\u001b[1;32m<ipython-input-16-d67b76e813e1>\u001b[0m in \u001b[0;36m<module>\u001b[1;34m()\u001b[0m\n\u001b[1;32m----> 1\u001b[1;33m \u001b[0msort\u001b[0m\u001b[1;33m(\u001b[0m\u001b[0mx\u001b[0m\u001b[1;33m)\u001b[0m\u001b[1;33m\u001b[0m\u001b[0m\n\u001b[0m",
      "\u001b[1;31mNameError\u001b[0m: name 'sort' is not defined"
     ]
    }
   ],
   "source": [
    "sort(x)"
   ]
  },
  {
   "cell_type": "code",
   "execution_count": 20,
   "metadata": {},
   "outputs": [],
   "source": [
    "y = np.sort(x)"
   ]
  },
  {
   "cell_type": "code",
   "execution_count": 18,
   "metadata": {},
   "outputs": [],
   "source": [
    "import numpy as np"
   ]
  },
  {
   "cell_type": "code",
   "execution_count": 21,
   "metadata": {},
   "outputs": [
    {
     "data": {
      "text/plain": [
       "array([[-2.34374503e+01],\n",
       "       [-2.95637995e+01],\n",
       "       [-4.59332097e+01],\n",
       "       [-2.86481987e+01],\n",
       "       [ 1.82744379e+01],\n",
       "       [-3.22265869e+01],\n",
       "       [-4.91992199e+01],\n",
       "       [-1.68646751e+01],\n",
       "       [-4.24268037e+00],\n",
       "       [-7.39552180e+01],\n",
       "       [-4.96749100e+01],\n",
       "       [ 7.67556106e+00],\n",
       "       [ 2.01002285e+01],\n",
       "       [-7.63909350e+00],\n",
       "       [ 6.06197228e-01],\n",
       "       [-1.62873489e+01],\n",
       "       [-5.05069166e+01],\n",
       "       [ 3.21085239e+02],\n",
       "       [-1.02546358e+01],\n",
       "       [-4.43976191e+01],\n",
       "       [-1.58743657e+01],\n",
       "       [-3.34386424e+01],\n",
       "       [ 8.30817205e-02],\n",
       "       [-3.07572273e+01],\n",
       "       [ 8.88356217e+01],\n",
       "       [-2.98827765e+01],\n",
       "       [-8.51185672e+00],\n",
       "       [-6.63785936e+01],\n",
       "       [-3.11622650e+00],\n",
       "       [ 1.03045633e+01],\n",
       "       [ 1.82763278e+01],\n",
       "       [-3.46074429e+01],\n",
       "       [-1.70962682e+01],\n",
       "       [ 1.96585667e+02],\n",
       "       [-1.04336034e+01],\n",
       "       [ 3.00147084e+01],\n",
       "       [-1.94384493e+01],\n",
       "       [-1.80308577e+01],\n",
       "       [-5.40640002e+00],\n",
       "       [ 2.94856151e+01],\n",
       "       [-3.89147628e+01],\n",
       "       [-4.04126563e+01],\n",
       "       [-3.61621849e+01],\n",
       "       [-1.73783495e+01],\n",
       "       [-1.11111956e+01],\n",
       "       [-1.41314134e+01],\n",
       "       [-7.78704655e+01],\n",
       "       [-5.90205176e+01],\n",
       "       [-4.69472730e+01],\n",
       "       [-1.08408530e+01],\n",
       "       [ 1.03484994e+01],\n",
       "       [ 1.95698342e+02],\n",
       "       [-5.28413674e+01],\n",
       "       [-7.44619331e+00],\n",
       "       [-2.46382240e+01],\n",
       "       [-1.94740929e+01],\n",
       "       [ 6.29313241e+00],\n",
       "       [-2.18730571e+01],\n",
       "       [-2.85081974e+01],\n",
       "       [ 1.84572802e+02],\n",
       "       [ 2.86272498e+01],\n",
       "       [-4.00286992e+00],\n",
       "       [-1.30611197e+01],\n",
       "       [-3.90937427e+01],\n",
       "       [ 2.27495368e+02],\n",
       "       [-3.07254068e+01],\n",
       "       [-3.57666641e+01],\n",
       "       [-2.60910856e+01],\n",
       "       [ 8.92239745e+01],\n",
       "       [-3.76674472e+01],\n",
       "       [-1.06413832e+01],\n",
       "       [-3.15874195e+00],\n",
       "       [ 8.14409491e+00],\n",
       "       [-2.40433632e+01],\n",
       "       [ 3.36185108e+00],\n",
       "       [ 1.24224214e+00],\n",
       "       [-3.12220590e+01],\n",
       "       [-2.52499686e+01],\n",
       "       [ 2.20591126e+01],\n",
       "       [-3.17639830e+01],\n",
       "       [ 1.88049356e+02],\n",
       "       [ 1.90014558e+01],\n",
       "       [-6.92825290e+01],\n",
       "       [-5.82630498e+01],\n",
       "       [-7.09109072e+01],\n",
       "       [-4.13910019e+01],\n",
       "       [-7.93910792e+01],\n",
       "       [ 2.27697972e+00],\n",
       "       [ 1.88458114e+02],\n",
       "       [-1.07834419e+00]])"
      ]
     },
     "execution_count": 21,
     "metadata": {},
     "output_type": "execute_result"
    }
   ],
   "source": [
    "y"
   ]
  },
  {
   "cell_type": "code",
   "execution_count": 22,
   "metadata": {},
   "outputs": [],
   "source": [
    "x = abs(x)"
   ]
  },
  {
   "cell_type": "code",
   "execution_count": 23,
   "metadata": {},
   "outputs": [
    {
     "data": {
      "text/plain": [
       "array([[2.34374503e+01],\n",
       "       [2.95637995e+01],\n",
       "       [4.59332097e+01],\n",
       "       [2.86481987e+01],\n",
       "       [1.82744379e+01],\n",
       "       [3.22265869e+01],\n",
       "       [4.91992199e+01],\n",
       "       [1.68646751e+01],\n",
       "       [4.24268037e+00],\n",
       "       [7.39552180e+01],\n",
       "       [4.96749100e+01],\n",
       "       [7.67556106e+00],\n",
       "       [2.01002285e+01],\n",
       "       [7.63909350e+00],\n",
       "       [6.06197228e-01],\n",
       "       [1.62873489e+01],\n",
       "       [5.05069166e+01],\n",
       "       [3.21085239e+02],\n",
       "       [1.02546358e+01],\n",
       "       [4.43976191e+01],\n",
       "       [1.58743657e+01],\n",
       "       [3.34386424e+01],\n",
       "       [8.30817205e-02],\n",
       "       [3.07572273e+01],\n",
       "       [8.88356217e+01],\n",
       "       [2.98827765e+01],\n",
       "       [8.51185672e+00],\n",
       "       [6.63785936e+01],\n",
       "       [3.11622650e+00],\n",
       "       [1.03045633e+01],\n",
       "       [1.82763278e+01],\n",
       "       [3.46074429e+01],\n",
       "       [1.70962682e+01],\n",
       "       [1.96585667e+02],\n",
       "       [1.04336034e+01],\n",
       "       [3.00147084e+01],\n",
       "       [1.94384493e+01],\n",
       "       [1.80308577e+01],\n",
       "       [5.40640002e+00],\n",
       "       [2.94856151e+01],\n",
       "       [3.89147628e+01],\n",
       "       [4.04126563e+01],\n",
       "       [3.61621849e+01],\n",
       "       [1.73783495e+01],\n",
       "       [1.11111956e+01],\n",
       "       [1.41314134e+01],\n",
       "       [7.78704655e+01],\n",
       "       [5.90205176e+01],\n",
       "       [4.69472730e+01],\n",
       "       [1.08408530e+01],\n",
       "       [1.03484994e+01],\n",
       "       [1.95698342e+02],\n",
       "       [5.28413674e+01],\n",
       "       [7.44619331e+00],\n",
       "       [2.46382240e+01],\n",
       "       [1.94740929e+01],\n",
       "       [6.29313241e+00],\n",
       "       [2.18730571e+01],\n",
       "       [2.85081974e+01],\n",
       "       [1.84572802e+02],\n",
       "       [2.86272498e+01],\n",
       "       [4.00286992e+00],\n",
       "       [1.30611197e+01],\n",
       "       [3.90937427e+01],\n",
       "       [2.27495368e+02],\n",
       "       [3.07254068e+01],\n",
       "       [3.57666641e+01],\n",
       "       [2.60910856e+01],\n",
       "       [8.92239745e+01],\n",
       "       [3.76674472e+01],\n",
       "       [1.06413832e+01],\n",
       "       [3.15874195e+00],\n",
       "       [8.14409491e+00],\n",
       "       [2.40433632e+01],\n",
       "       [3.36185108e+00],\n",
       "       [1.24224214e+00],\n",
       "       [3.12220590e+01],\n",
       "       [2.52499686e+01],\n",
       "       [2.20591126e+01],\n",
       "       [3.17639830e+01],\n",
       "       [1.88049356e+02],\n",
       "       [1.90014558e+01],\n",
       "       [6.92825290e+01],\n",
       "       [5.82630498e+01],\n",
       "       [7.09109072e+01],\n",
       "       [4.13910019e+01],\n",
       "       [7.93910792e+01],\n",
       "       [2.27697972e+00],\n",
       "       [1.88458114e+02],\n",
       "       [1.07834419e+00]])"
      ]
     },
     "execution_count": 23,
     "metadata": {},
     "output_type": "execute_result"
    }
   ],
   "source": [
    "x"
   ]
  },
  {
   "cell_type": "code",
   "execution_count": 24,
   "metadata": {},
   "outputs": [
    {
     "data": {
      "text/plain": [
       "array([[2.34374503e+01],\n",
       "       [2.95637995e+01],\n",
       "       [4.59332097e+01],\n",
       "       [2.86481987e+01],\n",
       "       [1.82744379e+01],\n",
       "       [3.22265869e+01],\n",
       "       [4.91992199e+01],\n",
       "       [1.68646751e+01],\n",
       "       [4.24268037e+00],\n",
       "       [7.39552180e+01],\n",
       "       [4.96749100e+01],\n",
       "       [7.67556106e+00],\n",
       "       [2.01002285e+01],\n",
       "       [7.63909350e+00],\n",
       "       [6.06197228e-01],\n",
       "       [1.62873489e+01],\n",
       "       [5.05069166e+01],\n",
       "       [3.21085239e+02],\n",
       "       [1.02546358e+01],\n",
       "       [4.43976191e+01],\n",
       "       [1.58743657e+01],\n",
       "       [3.34386424e+01],\n",
       "       [8.30817205e-02],\n",
       "       [3.07572273e+01],\n",
       "       [8.88356217e+01],\n",
       "       [2.98827765e+01],\n",
       "       [8.51185672e+00],\n",
       "       [6.63785936e+01],\n",
       "       [3.11622650e+00],\n",
       "       [1.03045633e+01],\n",
       "       [1.82763278e+01],\n",
       "       [3.46074429e+01],\n",
       "       [1.70962682e+01],\n",
       "       [1.96585667e+02],\n",
       "       [1.04336034e+01],\n",
       "       [3.00147084e+01],\n",
       "       [1.94384493e+01],\n",
       "       [1.80308577e+01],\n",
       "       [5.40640002e+00],\n",
       "       [2.94856151e+01],\n",
       "       [3.89147628e+01],\n",
       "       [4.04126563e+01],\n",
       "       [3.61621849e+01],\n",
       "       [1.73783495e+01],\n",
       "       [1.11111956e+01],\n",
       "       [1.41314134e+01],\n",
       "       [7.78704655e+01],\n",
       "       [5.90205176e+01],\n",
       "       [4.69472730e+01],\n",
       "       [1.08408530e+01],\n",
       "       [1.03484994e+01],\n",
       "       [1.95698342e+02],\n",
       "       [5.28413674e+01],\n",
       "       [7.44619331e+00],\n",
       "       [2.46382240e+01],\n",
       "       [1.94740929e+01],\n",
       "       [6.29313241e+00],\n",
       "       [2.18730571e+01],\n",
       "       [2.85081974e+01],\n",
       "       [1.84572802e+02],\n",
       "       [2.86272498e+01],\n",
       "       [4.00286992e+00],\n",
       "       [1.30611197e+01],\n",
       "       [3.90937427e+01],\n",
       "       [2.27495368e+02],\n",
       "       [3.07254068e+01],\n",
       "       [3.57666641e+01],\n",
       "       [2.60910856e+01],\n",
       "       [8.92239745e+01],\n",
       "       [3.76674472e+01],\n",
       "       [1.06413832e+01],\n",
       "       [3.15874195e+00],\n",
       "       [8.14409491e+00],\n",
       "       [2.40433632e+01],\n",
       "       [3.36185108e+00],\n",
       "       [1.24224214e+00],\n",
       "       [3.12220590e+01],\n",
       "       [2.52499686e+01],\n",
       "       [2.20591126e+01],\n",
       "       [3.17639830e+01],\n",
       "       [1.88049356e+02],\n",
       "       [1.90014558e+01],\n",
       "       [6.92825290e+01],\n",
       "       [5.82630498e+01],\n",
       "       [7.09109072e+01],\n",
       "       [4.13910019e+01],\n",
       "       [7.93910792e+01],\n",
       "       [2.27697972e+00],\n",
       "       [1.88458114e+02],\n",
       "       [1.07834419e+00]])"
      ]
     },
     "execution_count": 24,
     "metadata": {},
     "output_type": "execute_result"
    }
   ],
   "source": [
    "np.sort(x)"
   ]
  },
  {
   "cell_type": "code",
   "execution_count": 25,
   "metadata": {},
   "outputs": [],
   "source": [
    "x = x.flatten()"
   ]
  },
  {
   "cell_type": "code",
   "execution_count": 26,
   "metadata": {},
   "outputs": [
    {
     "data": {
      "text/plain": [
       "array([2.34374503e+01, 2.95637995e+01, 4.59332097e+01, 2.86481987e+01,\n",
       "       1.82744379e+01, 3.22265869e+01, 4.91992199e+01, 1.68646751e+01,\n",
       "       4.24268037e+00, 7.39552180e+01, 4.96749100e+01, 7.67556106e+00,\n",
       "       2.01002285e+01, 7.63909350e+00, 6.06197228e-01, 1.62873489e+01,\n",
       "       5.05069166e+01, 3.21085239e+02, 1.02546358e+01, 4.43976191e+01,\n",
       "       1.58743657e+01, 3.34386424e+01, 8.30817205e-02, 3.07572273e+01,\n",
       "       8.88356217e+01, 2.98827765e+01, 8.51185672e+00, 6.63785936e+01,\n",
       "       3.11622650e+00, 1.03045633e+01, 1.82763278e+01, 3.46074429e+01,\n",
       "       1.70962682e+01, 1.96585667e+02, 1.04336034e+01, 3.00147084e+01,\n",
       "       1.94384493e+01, 1.80308577e+01, 5.40640002e+00, 2.94856151e+01,\n",
       "       3.89147628e+01, 4.04126563e+01, 3.61621849e+01, 1.73783495e+01,\n",
       "       1.11111956e+01, 1.41314134e+01, 7.78704655e+01, 5.90205176e+01,\n",
       "       4.69472730e+01, 1.08408530e+01, 1.03484994e+01, 1.95698342e+02,\n",
       "       5.28413674e+01, 7.44619331e+00, 2.46382240e+01, 1.94740929e+01,\n",
       "       6.29313241e+00, 2.18730571e+01, 2.85081974e+01, 1.84572802e+02,\n",
       "       2.86272498e+01, 4.00286992e+00, 1.30611197e+01, 3.90937427e+01,\n",
       "       2.27495368e+02, 3.07254068e+01, 3.57666641e+01, 2.60910856e+01,\n",
       "       8.92239745e+01, 3.76674472e+01, 1.06413832e+01, 3.15874195e+00,\n",
       "       8.14409491e+00, 2.40433632e+01, 3.36185108e+00, 1.24224214e+00,\n",
       "       3.12220590e+01, 2.52499686e+01, 2.20591126e+01, 3.17639830e+01,\n",
       "       1.88049356e+02, 1.90014558e+01, 6.92825290e+01, 5.82630498e+01,\n",
       "       7.09109072e+01, 4.13910019e+01, 7.93910792e+01, 2.27697972e+00,\n",
       "       1.88458114e+02, 1.07834419e+00])"
      ]
     },
     "execution_count": 26,
     "metadata": {},
     "output_type": "execute_result"
    }
   ],
   "source": [
    "x"
   ]
  },
  {
   "cell_type": "code",
   "execution_count": 27,
   "metadata": {},
   "outputs": [
    {
     "data": {
      "text/plain": [
       "array([8.30817205e-02, 6.06197228e-01, 1.07834419e+00, 1.24224214e+00,\n",
       "       2.27697972e+00, 3.11622650e+00, 3.15874195e+00, 3.36185108e+00,\n",
       "       4.00286992e+00, 4.24268037e+00, 5.40640002e+00, 6.29313241e+00,\n",
       "       7.44619331e+00, 7.63909350e+00, 7.67556106e+00, 8.14409491e+00,\n",
       "       8.51185672e+00, 1.02546358e+01, 1.03045633e+01, 1.03484994e+01,\n",
       "       1.04336034e+01, 1.06413832e+01, 1.08408530e+01, 1.11111956e+01,\n",
       "       1.30611197e+01, 1.41314134e+01, 1.58743657e+01, 1.62873489e+01,\n",
       "       1.68646751e+01, 1.70962682e+01, 1.73783495e+01, 1.80308577e+01,\n",
       "       1.82744379e+01, 1.82763278e+01, 1.90014558e+01, 1.94384493e+01,\n",
       "       1.94740929e+01, 2.01002285e+01, 2.18730571e+01, 2.20591126e+01,\n",
       "       2.34374503e+01, 2.40433632e+01, 2.46382240e+01, 2.52499686e+01,\n",
       "       2.60910856e+01, 2.85081974e+01, 2.86272498e+01, 2.86481987e+01,\n",
       "       2.94856151e+01, 2.95637995e+01, 2.98827765e+01, 3.00147084e+01,\n",
       "       3.07254068e+01, 3.07572273e+01, 3.12220590e+01, 3.17639830e+01,\n",
       "       3.22265869e+01, 3.34386424e+01, 3.46074429e+01, 3.57666641e+01,\n",
       "       3.61621849e+01, 3.76674472e+01, 3.89147628e+01, 3.90937427e+01,\n",
       "       4.04126563e+01, 4.13910019e+01, 4.43976191e+01, 4.59332097e+01,\n",
       "       4.69472730e+01, 4.91992199e+01, 4.96749100e+01, 5.05069166e+01,\n",
       "       5.28413674e+01, 5.82630498e+01, 5.90205176e+01, 6.63785936e+01,\n",
       "       6.92825290e+01, 7.09109072e+01, 7.39552180e+01, 7.78704655e+01,\n",
       "       7.93910792e+01, 8.88356217e+01, 8.92239745e+01, 1.84572802e+02,\n",
       "       1.88049356e+02, 1.88458114e+02, 1.95698342e+02, 1.96585667e+02,\n",
       "       2.27495368e+02, 3.21085239e+02])"
      ]
     },
     "execution_count": 27,
     "metadata": {},
     "output_type": "execute_result"
    }
   ],
   "source": [
    "np.sort(x)"
   ]
  },
  {
   "cell_type": "code",
   "execution_count": 28,
   "metadata": {},
   "outputs": [
    {
     "data": {
      "text/plain": [
       "90"
      ]
     },
     "execution_count": 28,
     "metadata": {},
     "output_type": "execute_result"
    }
   ],
   "source": [
    "x.size"
   ]
  },
  {
   "cell_type": "code",
   "execution_count": 32,
   "metadata": {},
   "outputs": [],
   "source": [
    "res = x[::-1]"
   ]
  },
  {
   "cell_type": "code",
   "execution_count": 31,
   "metadata": {},
   "outputs": [],
   "source": [
    "x = np.sort(x)"
   ]
  },
  {
   "cell_type": "code",
   "execution_count": 33,
   "metadata": {},
   "outputs": [
    {
     "data": {
      "text/plain": [
       "array([3.21085239e+02, 2.27495368e+02, 1.96585667e+02, 1.95698342e+02,\n",
       "       1.88458114e+02, 1.88049356e+02, 1.84572802e+02, 8.92239745e+01,\n",
       "       8.88356217e+01, 7.93910792e+01, 7.78704655e+01, 7.39552180e+01,\n",
       "       7.09109072e+01, 6.92825290e+01, 6.63785936e+01, 5.90205176e+01,\n",
       "       5.82630498e+01, 5.28413674e+01, 5.05069166e+01, 4.96749100e+01,\n",
       "       4.91992199e+01, 4.69472730e+01, 4.59332097e+01, 4.43976191e+01,\n",
       "       4.13910019e+01, 4.04126563e+01, 3.90937427e+01, 3.89147628e+01,\n",
       "       3.76674472e+01, 3.61621849e+01, 3.57666641e+01, 3.46074429e+01,\n",
       "       3.34386424e+01, 3.22265869e+01, 3.17639830e+01, 3.12220590e+01,\n",
       "       3.07572273e+01, 3.07254068e+01, 3.00147084e+01, 2.98827765e+01,\n",
       "       2.95637995e+01, 2.94856151e+01, 2.86481987e+01, 2.86272498e+01,\n",
       "       2.85081974e+01, 2.60910856e+01, 2.52499686e+01, 2.46382240e+01,\n",
       "       2.40433632e+01, 2.34374503e+01, 2.20591126e+01, 2.18730571e+01,\n",
       "       2.01002285e+01, 1.94740929e+01, 1.94384493e+01, 1.90014558e+01,\n",
       "       1.82763278e+01, 1.82744379e+01, 1.80308577e+01, 1.73783495e+01,\n",
       "       1.70962682e+01, 1.68646751e+01, 1.62873489e+01, 1.58743657e+01,\n",
       "       1.41314134e+01, 1.30611197e+01, 1.11111956e+01, 1.08408530e+01,\n",
       "       1.06413832e+01, 1.04336034e+01, 1.03484994e+01, 1.03045633e+01,\n",
       "       1.02546358e+01, 8.51185672e+00, 8.14409491e+00, 7.67556106e+00,\n",
       "       7.63909350e+00, 7.44619331e+00, 6.29313241e+00, 5.40640002e+00,\n",
       "       4.24268037e+00, 4.00286992e+00, 3.36185108e+00, 3.15874195e+00,\n",
       "       3.11622650e+00, 2.27697972e+00, 1.24224214e+00, 1.07834419e+00,\n",
       "       6.06197228e-01, 8.30817205e-02])"
      ]
     },
     "execution_count": 33,
     "metadata": {},
     "output_type": "execute_result"
    }
   ],
   "source": [
    "res"
   ]
  },
  {
   "cell_type": "code",
   "execution_count": 40,
   "metadata": {},
   "outputs": [],
   "source": [
    "newlist = res[9:]"
   ]
  },
  {
   "cell_type": "code",
   "execution_count": 41,
   "metadata": {},
   "outputs": [
    {
     "data": {
      "text/plain": [
       "array([79.39107925, 77.87046551, 73.95521804, 70.91090716, 69.28252898,\n",
       "       66.37859364, 59.02051758, 58.26304975, 52.84136738, 50.5069166 ,\n",
       "       49.67490995, 49.19921993, 46.94727303, 45.93320969, 44.39761907,\n",
       "       41.39100187, 40.41265628, 39.09374272, 38.91476278, 37.66744719,\n",
       "       36.16218486, 35.76666409, 34.60744289, 33.43864239, 32.22658686,\n",
       "       31.76398298, 31.22205899, 30.75722734, 30.72540684, 30.01470844,\n",
       "       29.8827765 , 29.56379953, 29.4856151 , 28.6481987 , 28.62724978,\n",
       "       28.50819739, 26.09108565, 25.24996863, 24.63822403, 24.04336322,\n",
       "       23.43745027, 22.05911264, 21.87305708, 20.10022854, 19.4740929 ,\n",
       "       19.43844929, 19.0014558 , 18.27632782, 18.27443786, 18.03085773,\n",
       "       17.37834951, 17.09626824, 16.86467506, 16.28734891, 15.87436572,\n",
       "       14.13141339, 13.06111971, 11.11119564, 10.84085296, 10.64138316,\n",
       "       10.43360338, 10.34849938, 10.30456326, 10.25463581,  8.51185672,\n",
       "        8.14409491,  7.67556106,  7.6390935 ,  7.44619331,  6.29313241,\n",
       "        5.40640002,  4.24268037,  4.00286992,  3.36185108,  3.15874195,\n",
       "        3.1162265 ,  2.27697972,  1.24224214,  1.07834419,  0.60619723,\n",
       "        0.08308172])"
      ]
     },
     "execution_count": 41,
     "metadata": {},
     "output_type": "execute_result"
    }
   ],
   "source": [
    "newlist"
   ]
  },
  {
   "cell_type": "code",
   "execution_count": 42,
   "metadata": {},
   "outputs": [
    {
     "data": {
      "text/plain": [
       "81"
      ]
     },
     "execution_count": 42,
     "metadata": {},
     "output_type": "execute_result"
    }
   ],
   "source": [
    "newlist.size"
   ]
  },
  {
   "cell_type": "code",
   "execution_count": null,
   "metadata": {},
   "outputs": [],
   "source": []
  }
 ],
 "metadata": {
  "anaconda-cloud": {},
  "kernelspec": {
   "display_name": "Python 2",
   "language": "python",
   "name": "python2"
  },
  "language_info": {
   "codemirror_mode": {
    "name": "ipython",
    "version": 2
   },
   "file_extension": ".py",
   "mimetype": "text/x-python",
   "name": "python",
   "nbconvert_exporter": "python",
   "pygments_lexer": "ipython2",
   "version": "2.7.18"
  }
 },
 "nbformat": 4,
 "nbformat_minor": 1
}
